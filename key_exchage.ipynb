{
  "nbformat": 4,
  "nbformat_minor": 0,
  "metadata": {
    "colab": {
      "provenance": [],
      "authorship_tag": "ABX9TyOw+SRaRj2mOE0ne8MljINq",
      "include_colab_link": true
    },
    "kernelspec": {
      "name": "python3",
      "display_name": "Python 3"
    },
    "language_info": {
      "name": "python"
    }
  },
  "cells": [
    {
      "cell_type": "markdown",
      "metadata": {
        "id": "view-in-github",
        "colab_type": "text"
      },
      "source": [
        "<a href=\"https://colab.research.google.com/github/SaiVaichal/key_exchange/blob/main/key_exchage.ipynb\" target=\"_parent\"><img src=\"https://colab.research.google.com/assets/colab-badge.svg\" alt=\"Open In Colab\"/></a>"
      ]
    },
    {
      "cell_type": "code",
      "execution_count": 2,
      "metadata": {
        "colab": {
          "base_uri": "https://localhost:8080/"
        },
        "id": "I2aScJ-ONyz1",
        "outputId": "c56bdfe8-32b5-45cf-ebaa-dd5a1938bc17"
      },
      "outputs": [
        {
          "output_type": "stream",
          "name": "stdout",
          "text": [
            "Decrypted Message: Hello, Secure World!\n"
          ]
        }
      ],
      "source": [
        "from cryptography.hazmat.primitives.asymmetric import rsa, dh, padding\n",
        "from cryptography.hazmat.primitives import serialization, hashes\n",
        "from cryptography.hazmat.primitives.kdf.pbkdf2 import PBKDF2HMAC\n",
        "from cryptography.hazmat.primitives.ciphers import Cipher, algorithms, modes\n",
        "import os\n",
        "import base64\n",
        "\n",
        "class KeyManagementSystem:\n",
        "    def __init__(self):\n",
        "        self.rsa_keys = {}\n",
        "        self.dh_params = dh.generate_parameters(generator=2, key_size=2048)\n",
        "        self.dh_keys = {}\n",
        "        self.aes_keys = {}\n",
        "\n",
        "    def generate_rsa_keys(self, user):\n",
        "        private_key = rsa.generate_private_key(\n",
        "            public_exponent=65537,\n",
        "            key_size=2048\n",
        "        )\n",
        "        public_key = private_key.public_key()\n",
        "        self.rsa_keys[user] = (private_key, public_key)\n",
        "\n",
        "    def generate_diffie_hellman_keys(self, user):\n",
        "        private_key = self.dh_params.generate_private_key()\n",
        "        public_key = private_key.public_key()\n",
        "        self.dh_keys[user] = (private_key, public_key)\n",
        "\n",
        "    def generate_symmetric_key(self, user):\n",
        "        key = os.urandom(32)  # 256-bit AES key\n",
        "        self.aes_keys[user] = key\n",
        "\n",
        "    def diffie_hellman_key_exchange(self, user_a, user_b):\n",
        "        private_key_a, public_key_a = self.dh_keys[user_a]\n",
        "        private_key_b, public_key_b = self.dh_keys[user_b]\n",
        "        shared_key_a = private_key_a.exchange(public_key_b)\n",
        "        shared_key_b = private_key_b.exchange(public_key_a)\n",
        "        return shared_key_a, shared_key_b  # Both should be identical\n",
        "\n",
        "    def encrypt_with_aes(self, user, plaintext):\n",
        "        key = self.aes_keys[user]\n",
        "        iv = os.urandom(16)\n",
        "        cipher = Cipher(algorithms.AES(key), modes.CBC(iv))\n",
        "        encryptor = cipher.encryptor()\n",
        "        padded_plaintext = plaintext + b' ' * (16 - len(plaintext) % 16)\n",
        "        ciphertext = encryptor.update(padded_plaintext) + encryptor.finalize()\n",
        "        return base64.b64encode(iv + ciphertext).decode()\n",
        "\n",
        "    def decrypt_with_aes(self, user, ciphertext):\n",
        "        key = self.aes_keys[user]\n",
        "        data = base64.b64decode(ciphertext)\n",
        "        iv, encrypted_text = data[:16], data[16:]\n",
        "        cipher = Cipher(algorithms.AES(key), modes.CBC(iv))\n",
        "        decryptor = cipher.decryptor()\n",
        "        plaintext = decryptor.update(encrypted_text) + decryptor.finalize()\n",
        "        return plaintext.strip()\n",
        "\n",
        "    def revoke_key(self, user, key_type):\n",
        "        if key_type == \"rsa\":\n",
        "            self.rsa_keys.pop(user, None)\n",
        "        elif key_type == \"dh\":\n",
        "            self.dh_keys.pop(user, None)\n",
        "        elif key_type == \"aes\":\n",
        "            self.aes_keys.pop(user, None)\n",
        "\n",
        "# Example Usage:\n",
        "kms = KeyManagementSystem()\n",
        "kms.generate_rsa_keys(\"Alice\")\n",
        "kms.generate_rsa_keys(\"Bob\")\n",
        "kms.generate_diffie_hellman_keys(\"Alice\")\n",
        "kms.generate_diffie_hellman_keys(\"Bob\")\n",
        "kms.generate_symmetric_key(\"Alice\")\n",
        "\n",
        "shared_secret_a, shared_secret_b = kms.diffie_hellman_key_exchange(\"Alice\", \"Bob\")\n",
        "assert shared_secret_a == shared_secret_b  # They should be identical\n",
        "\n",
        "# Encrypt and Decrypt Example\n",
        "encrypted_message = kms.encrypt_with_aes(\"Alice\", b\"Hello, Secure World!\")\n",
        "decrypted_message = kms.decrypt_with_aes(\"Alice\", encrypted_message)\n",
        "print(\"Decrypted Message:\", decrypted_message.decode())\n",
        "\n"
      ]
    }
  ]
}